{
  "nbformat": 4,
  "nbformat_minor": 0,
  "metadata": {
    "colab": {
      "name": "04_landcover_cortisol_duke.ipynb",
      "provenance": [],
      "collapsed_sections": [],
      "authorship_tag": "ABX9TyMtCi8xcF0vIQ203jaHGask",
      "include_colab_link": true
    },
    "kernelspec": {
      "name": "python3",
      "display_name": "Python 3"
    }
  },
  "cells": [
    {
      "cell_type": "markdown",
      "metadata": {
        "id": "view-in-github",
        "colab_type": "text"
      },
      "source": [
        "<a href=\"https://colab.research.google.com/github/pratikunterwegs/duke-squirrel/blob/master/04_landcover_cortisol_duke.ipynb\" target=\"_parent\"><img src=\"https://colab.research.google.com/assets/colab-badge.svg\" alt=\"Open In Colab\"/></a>"
      ]
    },
    {
      "cell_type": "code",
      "metadata": {
        "id": "cL6MbU2F6wQT",
        "colab": {
          "base_uri": "https://localhost:8080/"
        },
        "outputId": "3a7b6e45-ed43-4118-d0af-d7c6006e2ad0"
      },
      "source": [
        "# Installs geemap package\n",
        "import subprocess\n",
        "\n",
        "try:\n",
        "    import geemap\n",
        "except ImportError:\n",
        "    print('geemap package not installed. Installing ...')\n",
        "    subprocess.check_call([\"python\", '-m', 'pip', 'install', 'geemap'])\n",
        "\n",
        "# Checks whether this notebook is running on Google Colab\n",
        "try:\n",
        "    import google.colab\n",
        "    import geemap.eefolium as geemap\n",
        "except:\n",
        "    import geemap\n",
        "\n",
        "# Authenticates and initializes Earth Engine\n",
        "import ee\n",
        "\n",
        "try:\n",
        "    ee.Initialize()\n",
        "except Exception as e:\n",
        "    ee.Authenticate()\n",
        "    ee.Initialize()"
      ],
      "execution_count": 2,
      "outputs": [
        {
          "output_type": "stream",
          "text": [
            "To authorize access needed by Earth Engine, open the following URL in a web browser and follow the instructions. If the web browser does not start automatically, please manually browse the URL below.\n",
            "\n",
            "    https://accounts.google.com/o/oauth2/auth?client_id=517222506229-vsmmajv00ul0bs7p89v5m89qs8eb9359.apps.googleusercontent.com&scope=https%3A%2F%2Fwww.googleapis.com%2Fauth%2Fearthengine+https%3A%2F%2Fwww.googleapis.com%2Fauth%2Fdevstorage.full_control&redirect_uri=urn%3Aietf%3Awg%3Aoauth%3A2.0%3Aoob&response_type=code&code_challenge=KqjZ_tZzuq8uTOZlTT5wjGWNra_vgtyw_ww0QvOV82s&code_challenge_method=S256\n",
            "\n",
            "The authorization workflow will generate a code, which you should paste in the box below. \n",
            "Enter verification code: 4/1AX4XfWirfVU3j98ojmncLquCFIaTcNs034qQYpvGEym3oWhlXjMXhfUMF7M\n",
            "\n",
            "Successfully saved authorization token.\n"
          ],
          "name": "stdout"
        }
      ]
    },
    {
      "cell_type": "code",
      "metadata": {
        "id": "V08-VG9drA4o"
      },
      "source": [
        "# prelim code for earth engine landcover around duke\n",
        "\n",
        "# get transects from user assets\n",
        "transects = ee.FeatureCollection(\"users/pratik_unterwegs/data_bboxes_cortisol\")\n",
        "\n",
        "# get buffer\n",
        "transect_geom = transects.geometry()\n",
        "transect_geom = transect_geom.buffer(5000)\n",
        "\n",
        "# define start and end date\n",
        "start_date = '2020-04-01'\n",
        "end_date = '2020-10-01'\n",
        "\n",
        "# filter sentinel by bounding box\n",
        "# get sentinel data\n",
        "sentinel = ee.ImageCollection(\"COPERNICUS/S2\")\n",
        "sentinel_bounds = sentinel.filterBounds(transect_geom)\n",
        "sentinel_2020 = sentinel_bounds.filterDate(start_date, end_date)\n",
        "\n",
        "# adding a NDVI band\n",
        "def add_ndvi(image):\n",
        "    ndvi = image.normalizedDifference(['B8', 'B4']).rename('ndvi')\n",
        "    return image.addBands([ndvi])\n",
        "\n",
        "\n",
        "# add an NDBI band\n",
        "def add_ndbi(image):\n",
        "    ndbi = image.normalizedDifference(['B11', 'B8']).rename('ndbi')\n",
        "    return image.addBands([ndbi])\n",
        "\n",
        "\n",
        "# map metrics over sentinel\n",
        "sentinel_ndvi = sentinel_2020.map(add_ndvi)\n",
        "sentinel_ndbi = sentinel_2020.map(add_ndbi)\n",
        "\n",
        "# get median values\n",
        "ndvi_median = sentinel_ndvi.select('ndvi').median()\n",
        "ndbi_median = sentinel_ndbi.select('ndbi').median()\n",
        "\n",
        "# clip to geometry\n",
        "ndvi_clip = ndvi_median.clip(transect_geom)\n",
        "ndbi_clip = ndbi_median.clip(transect_geom)"
      ],
      "execution_count": 10,
      "outputs": []
    },
    {
      "cell_type": "code",
      "metadata": {
        "id": "gcWWeobgJ3t8"
      },
      "source": [
        "# Define an sld style color ramp to apply to the image.\n",
        "sld_ramp = \\\n",
        "  '<RasterSymbolizer>' + \\\n",
        "    '<ColorMap type=\"ramp\" extended=\"false\" >' + \\\n",
        "      '<ColorMapEntry color=\"#0D0887\" quantity=\"-1\" label=\"0\"/>' + \\\n",
        "      '<ColorMapEntry color=\"#CC4678\" quantity=\"0\" label=\"300\" />' + \\\n",
        "      '<ColorMapEntry color=\"#F0F921\" quantity=\"0.5\" label=\"500\" />' + \\\n",
        "    '</ColorMap>' + \\\n",
        "  '</RasterSymbolizer>';\n",
        "\n",
        "# print layers\n",
        "vis = {'bands': ['ndvi']}\n",
        "Map = geemap.Map(center=[36.0005,-78.9], zoom=12)\n",
        "Map.addLayer(ndbi_clip.sldStyle(sld_ramp), {}, 'builtup')\n",
        "Map.addLayer(transects)\n",
        "Map.addLayerControl()\n",
        "\n",
        "Map"
      ],
      "execution_count": null,
      "outputs": []
    },
    {
      "cell_type": "code",
      "metadata": {
        "colab": {
          "base_uri": "https://localhost:8080/"
        },
        "id": "g5yC9DD-I2Ly",
        "outputId": "8580b428-e9bf-414c-a6fd-2b7491ccd68f"
      },
      "source": [
        "mean_ndvi = ndvi_median.reduceRegions(\n",
        "    collection = transects.geometry(),\n",
        "    reducer =  ee.Reducer.mean(),\n",
        "    scale = 10\n",
        ")\n",
        "\n",
        "print(mean_ndvi.getInfo())\n",
        "\n",
        "geemap.zonal_statistics_by_group(ndvi_median, transects, \".\", statistics_type=\"MEAN\")"
      ],
      "execution_count": 24,
      "outputs": [
        {
          "output_type": "stream",
          "text": [
            "{'type': 'FeatureCollection', 'columns': {'mean': 'Float<-1.0, 1.0>', 'system:index': 'String'}, 'features': [{'type': 'Feature', 'geometry': {'type': 'MultiPolygon', 'coordinates': [[[[-83.06732267675704, 42.30393318184279], [-83.06458481335166, 42.30393314663324], [-83.06458481335166, 42.30596205258114], [-83.06732267675704, 42.30596202044555], [-83.06732267675704, 42.30393318184279]]], [[[-80.26422026948713, 43.524010078709615], [-80.20965200383223, 43.52401007337097], [-80.15508376126236, 43.5240100561262], [-80.15508376126236, 43.55198201789469], [-80.20965200383223, 43.551982024623264], [-80.26422026948713, 43.55198200280849], [-80.26422026948713, 43.524010078709615]]], [[[-79.06210018487616, 35.89912116447075], [-79.00099043638997, 35.89912115730096], [-78.93988066496506, 35.89912119024453], [-78.93988066496506, 36.05236713526263], [-79.00099043638997, 36.05236713957992], [-79.06210018487616, 36.05236714533879], [-79.06210018487616, 35.89912116447075]]]]}, 'id': '0', 'properties': {'mean': 0.4342221474598091}}]}\n"
          ],
          "name": "stdout"
        }
      ]
    },
    {
      "cell_type": "code",
      "metadata": {
        "id": "q4UQ6yp8mo1S"
      },
      "source": [
        "# export image to drive\n",
        "downConfig = {'scale': 10, \"maxPixels\": 1.0E13, 'driveFolder': 'duke-squirrels'}  # scale means resolution.\n",
        "name = \"duke_guelph_ndbi_cortisol\"\n",
        "# print(name)\n",
        "task = ee.batch.Export.image(ndbi_clip, name, downConfig)\n",
        "task.start()\n",
        "\n",
        "# export ndvi to drive\n",
        "name_ndvi = \"duke_guelph_ndvi_cortisol\"\n",
        "# print(name)\n",
        "task_ndvi = ee.batch.Export.image(ndvi_clip, name_ndvi, downConfig)\n",
        "task_ndvi.start()\n"
      ],
      "execution_count": 12,
      "outputs": []
    },
    {
      "cell_type": "code",
      "metadata": {
        "id": "VjAplR9tnyb6"
      },
      "source": [
        ""
      ],
      "execution_count": null,
      "outputs": []
    }
  ]
}