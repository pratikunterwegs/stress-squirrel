{
  "nbformat": 4,
  "nbformat_minor": 2,
  "metadata": {
    "colab": {
      "name": "04_landcover_cortisol_duke.ipynb",
      "provenance": [],
      "collapsed_sections": [],
      "authorship_tag": "ABX9TyOBPVTAcLInKKFswLNGGyNQ",
      "include_colab_link": true
    },
    "kernelspec": {
      "name": "python3",
      "display_name": "Python 3.8.10 64-bit ('gee': conda)"
    },
    "language_info": {
      "name": "python",
      "version": "3.8.10",
      "mimetype": "text/x-python",
      "codemirror_mode": {
        "name": "ipython",
        "version": 3
      },
      "pygments_lexer": "ipython3",
      "nbconvert_exporter": "python",
      "file_extension": ".py"
    },
    "interpreter": {
      "hash": "6b21d925dc9624810ca91fcc9d5b868a067dc24a39943604ca00ceb2efb98787"
    }
  },
  "cells": [
    {
      "cell_type": "markdown",
      "source": [
        "<a href=\"https://colab.research.google.com/github/pratikunterwegs/duke-squirrel/blob/master/04_landcover_cortisol_duke.ipynb\" target=\"_parent\"><img src=\"https://colab.research.google.com/assets/colab-badge.svg\" alt=\"Open In Colab\"/></a>"
      ],
      "metadata": {
        "id": "view-in-github",
        "colab_type": "text"
      }
    },
    {
      "cell_type": "code",
      "execution_count": 1,
      "source": [
        "# Installs geemap package\n",
        "import subprocess\n",
        "import os\n",
        "\n",
        "try:\n",
        "    import geemap\n",
        "except ImportError:\n",
        "    print('geemap package not installed. Installing ...')\n",
        "    subprocess.check_call([\"python\", '-m', 'pip', 'install', 'geemap'])\n",
        "\n",
        "# Checks whether this notebook is running on Google Colab\n",
        "try:\n",
        "    import google.colab\n",
        "    import geemap.eefolium as geemap\n",
        "except:\n",
        "    import geemap\n",
        "\n",
        "# Authenticates and initializes Earth Engine\n",
        "import ee\n",
        "\n",
        "try:\n",
        "    ee.Initialize()\n",
        "except Exception as e:\n",
        "    ee.Authenticate()\n",
        "    ee.Initialize()"
      ],
      "outputs": [],
      "metadata": {
        "id": "cL6MbU2F6wQT",
        "colab": {
          "base_uri": "https://localhost:8080/"
        },
        "outputId": "7f3145a6-f5b0-45de-deef-b29d7c4e1bde"
      }
    },
    {
      "cell_type": "code",
      "execution_count": 13,
      "source": [
        "# prelim code for earth engine landcover around duke\n",
        "\n",
        "# get transects from user assets\n",
        "transects = ee.FeatureCollection(\"users/pratik_unterwegs/data_cortisol_buffer\")\n",
        "extent = ee.FeatureCollection(\"users/pratik_unterwegs/data_bboxes_cortisol\")\n",
        "\n",
        "# get buffer\n",
        "extent_geom = extent.geometry()\n",
        "extent_geom = extent_geom.buffer(5000)\n",
        "\n",
        "# define start and end date\n",
        "start_date = '2020-04-01'\n",
        "end_date = '2020-10-01'\n",
        "\n",
        "# filter sentinel by bounding box\n",
        "# get sentinel data\n",
        "sentinel = ee.ImageCollection(\"COPERNICUS/S2\")\n",
        "sentinel_bounds = sentinel.filterBounds(extent_geom)\n",
        "sentinel_2020 = sentinel_bounds.filterDate(start_date, end_date)\n",
        "\n",
        "# adding a NDVI band\n",
        "def add_ndvi(image):\n",
        "    ndvi = image.normalizedDifference(['B8', 'B4']).rename('ndvi')\n",
        "    return image.addBands([ndvi])\n",
        "\n",
        "\n",
        "# add an NDBI band\n",
        "def add_ndbi(image):\n",
        "    ndbi = image.normalizedDifference(['B11', 'B8']).rename('ndbi')\n",
        "    return image.addBands([ndbi])\n",
        "\n",
        "\n",
        "# map metrics over sentinel\n",
        "sentinel_ndvi = sentinel_2020.map(add_ndvi)\n",
        "sentinel_ndbi = sentinel_2020.map(add_ndbi)\n",
        "\n",
        "# get median values\n",
        "ndvi_median = sentinel_ndvi.select('ndvi').median()\n",
        "ndbi_median = sentinel_ndbi.select('ndbi').median()\n",
        "\n",
        "# clip to geometry\n",
        "ndvi_clip = ndvi_median.clip(extent_geom)\n",
        "ndbi_clip = ndbi_median.clip(extent_geom)"
      ],
      "outputs": [],
      "metadata": {
        "id": "V08-VG9drA4o"
      }
    },
    {
      "cell_type": "code",
      "execution_count": null,
      "source": [
        "# Define an sld style color ramp to apply to the image.\n",
        "sld_ramp = \\\n",
        "  '<RasterSymbolizer>' + \\\n",
        "    '<ColorMap type=\"ramp\" extended=\"false\" >' + \\\n",
        "      '<ColorMapEntry color=\"#0D0887\" quantity=\"-1\" label=\"0\"/>' + \\\n",
        "      '<ColorMapEntry color=\"#CC4678\" quantity=\"0\" label=\"300\" />' + \\\n",
        "      '<ColorMapEntry color=\"#F0F921\" quantity=\"0.5\" label=\"500\" />' + \\\n",
        "    '</ColorMap>' + \\\n",
        "  '</RasterSymbolizer>';\n",
        "\n",
        "# print layers\n",
        "vis = {'bands': ['ndvi']}\n",
        "Map = geemap.Map(center=[36.0005,-78.9], zoom=12)\n",
        "Map.addLayer(ndbi_clip.sldStyle(sld_ramp), {}, 'builtup')\n",
        "Map.addLayer(transects)\n",
        "Map.addLayerControl()\n",
        "\n",
        "Map"
      ],
      "outputs": [],
      "metadata": {
        "id": "gcWWeobgJ3t8"
      }
    },
    {
      "cell_type": "code",
      "execution_count": 9,
      "source": [
        "# check working directory\n",
        "os.getcwd()"
      ],
      "outputs": [
        {
          "output_type": "execute_result",
          "data": {
            "text/plain": [
              "'/home/pratik/projects/stress-squirrel'"
            ]
          },
          "metadata": {},
          "execution_count": 9
        }
      ],
      "metadata": {}
    },
    {
      "cell_type": "code",
      "execution_count": null,
      "source": [
        "out_dir = os.path.join(os.getcwd(), 'data')\n",
        "# for ndvi\n",
        "out_ndvi_mean = os.path.join(out_dir, 'data_zonalstats_ndvi_mean.csv')\n",
        "out_ndvi_std = os.path.join(out_dir, 'data_zonalstats_ndvi_std.csv')\n",
        "\n",
        "# for ndbi\n",
        "out_ndbi_mean = os.path.join(out_dir, 'data_zonalstats_ndbi_mean.csv')\n",
        "out_ndbi_std = os.path.join(out_dir, 'data_zonalstats_ndbi_std.csv') \n",
        "\n",
        "# check for directory and make\n",
        "if not os.path.exists(out_dir):\n",
        "    os.makedirs(out_dir)\n",
        "\n",
        "# Allowed output formats: csv, shp, json, kml, kmz\n",
        "# Allowed statistics type: MEAN, MAXIMUM, MINIMUM, MEDIAN, STD, MIN_MAX, VARIANCE, SUM\n",
        "# for ndvi\n",
        "geemap.zonal_statistics(ndvi_clip, transects, out_ndvi_mean, statistics_type='MEAN', scale=10)\n",
        "geemap.zonal_statistics(ndvi_clip, transects, out_ndvi_std, statistics_type='STD', scale=10)\n",
        "\n",
        "# for ndbi\n",
        "geemap.zonal_statistics(ndbi_clip, transects, out_ndbi_mean, statistics_type='MEAN', scale=10)\n",
        "geemap.zonal_statistics(ndbi_clip, transects, out_ndbi_std, statistics_type='STD', scale=10)"
      ],
      "outputs": [],
      "metadata": {
        "colab": {
          "base_uri": "https://localhost:8080/"
        },
        "id": "g5yC9DD-I2Ly",
        "outputId": "b7675b5c-65a6-4559-8ee9-d34da0720878"
      }
    },
    {
      "cell_type": "code",
      "execution_count": 14,
      "source": [
        "# to export image by area\n",
        "featlist = extent.getInfo()[\"features\"]\n",
        "\n",
        "featlist"
      ],
      "outputs": [
        {
          "output_type": "execute_result",
          "data": {
            "text/plain": [
              "[{'type': 'Feature',\n",
              "  'geometry': {'type': 'Polygon',\n",
              "   'coordinates': [[[-79.06210018487616, 35.89912116447075],\n",
              "     [-79.00099043638997, 35.89912115730096],\n",
              "     [-78.93988066496506, 35.89912119024453],\n",
              "     [-78.93988066496506, 36.05236713526263],\n",
              "     [-79.00099043638997, 36.05236713957992],\n",
              "     [-79.06210018487616, 36.05236714533879],\n",
              "     [-79.06210018487616, 35.89912116447075]]]},\n",
              "  'id': '00000000000000000000',\n",
              "  'properties': {'level_0': 0, 'level_1': 0}},\n",
              " {'type': 'Feature',\n",
              "  'geometry': {'type': 'Polygon',\n",
              "   'coordinates': [[[-80.34929994709324, 43.38014167658449],\n",
              "     [-80.29955421254233, 43.38014162011698],\n",
              "     [-80.24980850186112, 43.3801416621483],\n",
              "     [-80.20006271912598, 43.38014163570123],\n",
              "     [-80.15031702319722, 43.38014161444812],\n",
              "     [-80.15031702319722, 43.54981487095105],\n",
              "     [-80.20006271912598, 43.549814915318414],\n",
              "     [-80.24980850186112, 43.54981488107669],\n",
              "     [-80.29955421254233, 43.549814912839565],\n",
              "     [-80.34929994709324, 43.54981488634292],\n",
              "     [-80.34929994709324, 43.38014167658449]]]},\n",
              "  'id': '00000000000000000001',\n",
              "  'properties': {'level_0': 0, 'level_1': 1}},\n",
              " {'type': 'Feature',\n",
              "  'geometry': {'type': 'Polygon',\n",
              "   'coordinates': [[[-83.06869607043757, 42.30594421989502],\n",
              "     [-83.06596268730826, 42.30594418273253],\n",
              "     [-83.06596268730826, 42.30797757856323],\n",
              "     [-83.06869607043757, 42.30797754838591],\n",
              "     [-83.06869607043757, 42.30594421989502]]]},\n",
              "  'id': '00000000000000000002',\n",
              "  'properties': {'level_0': 0, 'level_1': 2}}]"
            ]
          },
          "metadata": {},
          "execution_count": 14
        }
      ],
      "metadata": {}
    },
    {
      "cell_type": "code",
      "execution_count": 12,
      "source": [
        "# to export image by area\n",
        "featlist = extent.getInfo()[\"features\"]\n",
        "\n",
        "#print featlist\n",
        "\n",
        "def unpack(thelist):\n",
        "    unpacked = []\n",
        "    for i in thelist:\n",
        "        unpacked.append(i[0])\n",
        "        unpacked.append(i[1])\n",
        "        # unpacked.append(i[2])\n",
        "    return unpacked\n",
        "\n",
        "for f, x in zip(featlist, [0, 1, 2]):\n",
        "    print(\"feature = \" + str(x))\n",
        "    geomlist = unpack(f[\"geometry\"][\"coordinates\"][0])\n",
        "    geom = ee.Geometry.Polygon(geomlist)\n",
        "\n",
        "    feat = ee.Feature(geom)\n",
        "    feat = feat.buffer(3000)\n",
        "    # disS = f[\"properties\"][\"district\"]\n",
        "    name_ndbi = \"raster_ndbi_clip\" + \"_area_\" + str(x)\n",
        "    name_ndvi = \"raster_ndvi_clip\" + \"_area_\" + str(x)\n",
        "\n",
        "    task_ndbi = ee.batch.Export.image.toDrive(\n",
        "        image=ndbi_clip,\n",
        "        # description= name+str(disS),\n",
        "        folder= \"stress-squirrel\",\n",
        "        fileNamePrefix= name_ndbi,\n",
        "        region= feat.geometry().bounds().getInfo()[\"coordinates\"],\n",
        "        scale= 10\n",
        "    )\n",
        "    task_ndvi = ee.batch.Export.image.toDrive(\n",
        "        image=ndvi_clip,\n",
        "        folder= \"stress-squirrel\",\n",
        "        fileNamePrefix= name_ndvi,\n",
        "        region= feat.geometry().bounds().getInfo()[\"coordinates\"],\n",
        "        scale= 10\n",
        "    )\n",
        "\n",
        "    task_ndbi.start()\n",
        "    task_ndvi.start()\n",
        "    # print(\"exporting {0} {1}..\".format(name))\n"
      ],
      "outputs": [],
      "metadata": {}
    }
  ]
}