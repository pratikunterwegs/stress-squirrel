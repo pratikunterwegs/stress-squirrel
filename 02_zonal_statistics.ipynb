{
  "nbformat": 4,
  "nbformat_minor": 2,
  "metadata": {
    "colab": {
      "name": "04_landcover_cortisol_duke.ipynb",
      "provenance": [],
      "collapsed_sections": [],
      "authorship_tag": "ABX9TyOBPVTAcLInKKFswLNGGyNQ",
      "include_colab_link": true
    },
    "kernelspec": {
      "name": "python3",
      "display_name": "Python 3.8.10 64-bit ('gee': conda)"
    },
    "language_info": {
      "name": "python",
      "version": "3.8.10",
      "mimetype": "text/x-python",
      "codemirror_mode": {
        "name": "ipython",
        "version": 3
      },
      "pygments_lexer": "ipython3",
      "nbconvert_exporter": "python",
      "file_extension": ".py"
    },
    "interpreter": {
      "hash": "6b21d925dc9624810ca91fcc9d5b868a067dc24a39943604ca00ceb2efb98787"
    }
  },
  "cells": [
    {
      "cell_type": "markdown",
      "source": [
        "<a href=\"https://colab.research.google.com/github/pratikunterwegs/duke-squirrel/blob/master/04_landcover_cortisol_duke.ipynb\" target=\"_parent\"><img src=\"https://colab.research.google.com/assets/colab-badge.svg\" alt=\"Open In Colab\"/></a>"
      ],
      "metadata": {
        "id": "view-in-github",
        "colab_type": "text"
      }
    },
    {
      "cell_type": "code",
      "execution_count": 1,
      "source": [
        "# Installs geemap package\n",
        "import subprocess\n",
        "import os\n",
        "\n",
        "try:\n",
        "    import geemap\n",
        "except ImportError:\n",
        "    print('geemap package not installed. Installing ...')\n",
        "    subprocess.check_call([\"python\", '-m', 'pip', 'install', 'geemap'])\n",
        "\n",
        "# Checks whether this notebook is running on Google Colab\n",
        "try:\n",
        "    import google.colab\n",
        "    import geemap.eefolium as geemap\n",
        "except:\n",
        "    import geemap\n",
        "\n",
        "# Authenticates and initializes Earth Engine\n",
        "import ee\n",
        "\n",
        "try:\n",
        "    ee.Initialize()\n",
        "except Exception as e:\n",
        "    ee.Authenticate()\n",
        "    ee.Initialize()"
      ],
      "outputs": [],
      "metadata": {
        "id": "cL6MbU2F6wQT",
        "colab": {
          "base_uri": "https://localhost:8080/"
        },
        "outputId": "7f3145a6-f5b0-45de-deef-b29d7c4e1bde"
      }
    },
    {
      "cell_type": "code",
      "execution_count": 14,
      "source": [
        "# prelim code for earth engine landcover around duke\n",
        "\n",
        "# get transects from user assets\n",
        "transects = ee.FeatureCollection(\"users/pratik_unterwegs/data_cortisol_buffer\")\n",
        "extent = ee.FeatureCollection(\"users/pratik_unterwegs/data_bboxes_cortisol\")\n",
        "\n",
        "# get buffer\n",
        "extent_geom = extent.geometry()\n",
        "extent_geom = extent_geom.buffer(5000)\n",
        "\n",
        "# define start and end date\n",
        "start_date = '2020-04-01'\n",
        "end_date = '2020-10-01'\n",
        "\n",
        "# filter sentinel by bounding box\n",
        "# get sentinel data\n",
        "sentinel = ee.ImageCollection(\"COPERNICUS/S2\")\n",
        "sentinel_bounds = sentinel.filterBounds(extent_geom)\n",
        "sentinel_2020 = sentinel_bounds.filterDate(start_date, end_date)\n",
        "\n",
        "# adding a NDVI band\n",
        "def add_ndvi(image):\n",
        "    ndvi = image.normalizedDifference(['B8', 'B4']).rename('ndvi')\n",
        "    return image.addBands([ndvi])\n",
        "\n",
        "\n",
        "# add an NDBI band\n",
        "def add_ndbi(image):\n",
        "    ndbi = image.normalizedDifference(['B11', 'B8']).rename('ndbi')\n",
        "    return image.addBands([ndbi])\n",
        "\n",
        "\n",
        "# map metrics over sentinel\n",
        "sentinel_ndvi = sentinel_2020.map(add_ndvi)\n",
        "sentinel_ndbi = sentinel_2020.map(add_ndbi)\n",
        "\n",
        "# get median values\n",
        "ndvi_median = sentinel_ndvi.select('ndvi').median()\n",
        "ndbi_median = sentinel_ndbi.select('ndbi').median()\n",
        "\n",
        "# clip to geometry\n",
        "ndvi_clip = ndvi_median.clip(extent_geom)\n",
        "ndbi_clip = ndbi_median.clip(extent_geom)"
      ],
      "outputs": [],
      "metadata": {
        "id": "V08-VG9drA4o"
      }
    },
    {
      "cell_type": "code",
      "execution_count": 3,
      "source": [
        "# Define an sld style color ramp to apply to the image.\n",
        "sld_ramp = \\\n",
        "  '<RasterSymbolizer>' + \\\n",
        "    '<ColorMap type=\"ramp\" extended=\"false\" >' + \\\n",
        "      '<ColorMapEntry color=\"#0D0887\" quantity=\"-1\" label=\"0\"/>' + \\\n",
        "      '<ColorMapEntry color=\"#CC4678\" quantity=\"0\" label=\"300\" />' + \\\n",
        "      '<ColorMapEntry color=\"#F0F921\" quantity=\"0.5\" label=\"500\" />' + \\\n",
        "    '</ColorMap>' + \\\n",
        "  '</RasterSymbolizer>';\n",
        "\n",
        "# print layers\n",
        "vis = {'bands': ['ndvi']}\n",
        "Map = geemap.Map(center=[36.0005,-78.9], zoom=12)\n",
        "Map.addLayer(ndbi_clip.sldStyle(sld_ramp), {}, 'builtup')\n",
        "Map.addLayer(transects)\n",
        "Map.addLayerControl()\n",
        "\n",
        "Map"
      ],
      "outputs": [
        {
          "output_type": "display_data",
          "data": {
            "text/plain": [
              "Map(center=[36.0005, -78.9], controls=(WidgetControl(options=['position', 'transparent_bg'], widget=HBox(child…"
            ],
            "application/vnd.jupyter.widget-view+json": {
              "version_major": 2,
              "version_minor": 0,
              "model_id": "48275aa7785a4156a8edd57786d92b51"
            }
          },
          "metadata": {}
        }
      ],
      "metadata": {
        "id": "gcWWeobgJ3t8"
      }
    },
    {
      "cell_type": "code",
      "execution_count": 5,
      "source": [
        "# check working directory\n",
        "os.getcwd()"
      ],
      "outputs": [
        {
          "output_type": "execute_result",
          "data": {
            "text/plain": [
              "'/home/pratik/projects/stress-squirrel'"
            ]
          },
          "metadata": {},
          "execution_count": 5
        }
      ],
      "metadata": {}
    },
    {
      "cell_type": "code",
      "execution_count": null,
      "source": [
        "out_dir = os.path.join(os.getcwd(), 'data')\n",
        "# for ndvi\n",
        "out_ndvi_mean = os.path.join(out_dir, 'data_zonalstats_ndvi_mean.csv')\n",
        "out_ndvi_std = os.path.join(out_dir, 'data_zonalstats_ndvi_std.csv')\n",
        "\n",
        "# for ndbi\n",
        "out_ndbi_mean = os.path.join(out_dir, 'data_zonalstats_ndbi_mean.csv')\n",
        "out_ndbi_std = os.path.join(out_dir, 'data_zonalstats_ndbi_std.csv') \n",
        "\n",
        "# check for directory and make\n",
        "if not os.path.exists(out_dir):\n",
        "    os.makedirs(out_dir)\n",
        "\n",
        "# Allowed output formats: csv, shp, json, kml, kmz\n",
        "# Allowed statistics type: MEAN, MAXIMUM, MINIMUM, MEDIAN, STD, MIN_MAX, VARIANCE, SUM\n",
        "# for ndvi\n",
        "geemap.zonal_statistics(ndvi_clip, transects, out_ndvi_mean, statistics_type='MEAN', scale=10)\n",
        "geemap.zonal_statistics(ndvi_clip, transects, out_ndvi_std, statistics_type='STD', scale=10)\n",
        "\n",
        "# for ndbi\n",
        "geemap.zonal_statistics(ndbi_clip, transects, out_ndbi_mean, statistics_type='MEAN', scale=10)\n",
        "geemap.zonal_statistics(ndbi_clip, transects, out_ndbi_std, statistics_type='STD', scale=10)"
      ],
      "outputs": [],
      "metadata": {
        "colab": {
          "base_uri": "https://localhost:8080/"
        },
        "id": "g5yC9DD-I2Ly",
        "outputId": "b7675b5c-65a6-4559-8ee9-d34da0720878"
      }
    },
    {
      "cell_type": "code",
      "execution_count": 15,
      "source": [
        "# to export image by area\n",
        "featlist = extent.getInfo()[\"features\"]\n",
        "\n",
        "featlist"
      ],
      "outputs": [
        {
          "output_type": "execute_result",
          "data": {
            "text/plain": [
              "[{'type': 'Feature',\n",
              "  'geometry': {'type': 'Polygon',\n",
              "   'coordinates': [[[-78.96930181004421, 35.922535932047666],\n",
              "     [-78.94051386714388, 35.92253590607873],\n",
              "     [-78.94051386714388, 36.009675643731434],\n",
              "     [-78.96930181004421, 36.009675690726574],\n",
              "     [-78.96930181004421, 35.922535932047666]]]},\n",
              "  'id': '00000000000000000000',\n",
              "  'properties': {'level_0': 0, 'level_1': 0}},\n",
              " {'type': 'Feature',\n",
              "  'geometry': {'type': 'Polygon',\n",
              "   'coordinates': [[[-83.06869607043757, 42.30594421989502],\n",
              "     [-83.0230964083827, 42.30594417871151],\n",
              "     [-82.97749676911995, 42.30594418368075],\n",
              "     [-82.93189705061212, 42.305944221528414],\n",
              "     [-82.88629739641353, 42.30594421923426],\n",
              "     [-82.84069770339379, 42.30594416334527],\n",
              "     [-82.79509803211178, 42.305944200063365],\n",
              "     [-82.74949836048141, 42.30594417125623],\n",
              "     [-82.70389866584827, 42.30594421780596],\n",
              "     [-82.65829900740107, 42.305944186647686],\n",
              "     [-82.6126993615208, 42.30594421851534],\n",
              "     [-82.56709970402567, 42.305944229706206],\n",
              "     [-82.52150001017327, 42.305944211169184],\n",
              "     [-82.47590033729143, 42.30594423391203],\n",
              "     [-82.43030065968638, 42.30594421398858],\n",
              "     [-82.38470095110921, 42.30594421682596],\n",
              "     [-82.33910135034095, 42.30594416932456],\n",
              "     [-82.29350166466193, 42.305944200438866],\n",
              "     [-82.24790194906916, 42.30594423134035],\n",
              "     [-82.2023022582275, 42.30594418324046],\n",
              "     [-82.1567026464701, 42.30594420153078],\n",
              "     [-82.11110291862188, 42.30594419026784],\n",
              "     [-82.06550329410096, 42.30594423133764],\n",
              "     [-82.01990357659697, 42.305944228506476],\n",
              "     [-81.97430390170857, 42.305944183186355],\n",
              "     [-81.92870423837948, 42.30594423457175],\n",
              "     [-81.88310455501853, 42.3059442229524],\n",
              "     [-81.83750490287612, 42.305944218507356],\n",
              "     [-81.79190524945383, 42.30594421074581],\n",
              "     [-81.74630556172414, 42.305944189039465],\n",
              "     [-81.70070588966192, 42.30594422334715],\n",
              "     [-81.6551061993422, 42.305944228204325],\n",
              "     [-81.60950653994846, 42.30594419881797],\n",
              "     [-81.56390687666423, 42.30594419886996],\n",
              "     [-81.51830717415315, 42.30594421724017],\n",
              "     [-81.47270756412965, 42.30594418054032],\n",
              "     [-81.42710784285784, 42.30594421427806],\n",
              "     [-81.38150814122419, 42.305944170301395],\n",
              "     [-81.3359085060702, 42.305944192755],\n",
              "     [-81.29030881595648, 42.3059441891054],\n",
              "     [-81.24470920083954, 42.305944235078755],\n",
              "     [-81.19910945422927, 42.305944231416085],\n",
              "     [-81.15350978940299, 42.30594418561344],\n",
              "     [-81.10791016717849, 42.305944234976636],\n",
              "     [-81.06231046363962, 42.305944211698794],\n",
              "     [-81.0167108070169, 42.30594419133751],\n",
              "     [-80.97111115677502, 42.305944236238524],\n",
              "     [-80.92551147188239, 42.305944184883785],\n",
              "     [-80.87991179523948, 42.30594418062241],\n",
              "     [-80.83431208497343, 42.30594421086822],\n",
              "     [-80.78871246776535, 42.305944201981774],\n",
              "     [-80.74311273191073, 42.305944202129446],\n",
              "     [-80.69751308792411, 42.30594421895654],\n",
              "     [-80.65191340774595, 42.30594423265895],\n",
              "     [-80.60631373206789, 42.3059441625541],\n",
              "     [-80.560714101289, 42.30594422603318],\n",
              "     [-80.51511438590435, 42.30594417925688],\n",
              "     [-80.46951471030222, 42.30594417192648],\n",
              "     [-80.4239150289698, 42.30594419059032],\n",
              "     [-80.37831538086536, 42.30594422880345],\n",
              "     [-80.33271571966799, 42.305944198423546],\n",
              "     [-80.28711599858602, 42.30594423459743],\n",
              "     [-80.24151634052616, 42.30594418894837],\n",
              "     [-80.19591669803594, 42.30594419650053],\n",
              "     [-80.15031702319722, 42.30594416869255],\n",
              "     [-80.15031702319722, 43.54981487095105],\n",
              "     [-80.19591669803594, 43.54981493505798],\n",
              "     [-80.24151634052616, 43.54981488829614],\n",
              "     [-80.28711599858602, 43.54981489011851],\n",
              "     [-80.33271571966799, 43.54981488178163],\n",
              "     [-80.37831538086536, 43.549814862670004],\n",
              "     [-80.4239150289698, 43.549814919323865],\n",
              "     [-80.46951471030222, 43.54981492000837],\n",
              "     [-80.51511438590435, 43.54981487113794],\n",
              "     [-80.560714101289, 43.54981493160442],\n",
              "     [-80.60631373206789, 43.54981488253944],\n",
              "     [-80.65191340774595, 43.549814889709864],\n",
              "     [-80.69751308792411, 43.54981488654786],\n",
              "     [-80.74311273191073, 43.54981487920452],\n",
              "     [-80.78871246776535, 43.54981488751536],\n",
              "     [-80.83431208497343, 43.54981490378016],\n",
              "     [-80.87991179523948, 43.549814881675715],\n",
              "     [-80.92551147188239, 43.54981489301771],\n",
              "     [-80.97111115677502, 43.549814877624186],\n",
              "     [-81.0167108070169, 43.5498149140487],\n",
              "     [-81.06231046363962, 43.54981486911537],\n",
              "     [-81.10791016717849, 43.549814900628135],\n",
              "     [-81.15350978940299, 43.54981486200574],\n",
              "     [-81.19910945422927, 43.549814917501216],\n",
              "     [-81.24470920083954, 43.54981493340098],\n",
              "     [-81.29030881595648, 43.54981490215711],\n",
              "     [-81.3359085060702, 43.549814921285595],\n",
              "     [-81.38150814122419, 43.5498149168209],\n",
              "     [-81.42710784285784, 43.54981490669843],\n",
              "     [-81.47270756412965, 43.549814896009494],\n",
              "     [-81.51830717415315, 43.54981488361611],\n",
              "     [-81.56390687666423, 43.549814893328325],\n",
              "     [-81.60950653994846, 43.54981492387085],\n",
              "     [-81.6551061993422, 43.54981491351075],\n",
              "     [-81.70070588966192, 43.54981487321782],\n",
              "     [-81.74630556172414, 43.549814880645435],\n",
              "     [-81.79190524945383, 43.54981487373394],\n",
              "     [-81.83750490287612, 43.54981493005555],\n",
              "     [-81.88310455501853, 43.54981491448717],\n",
              "     [-81.92870423837948, 43.54981491040378],\n",
              "     [-81.97430390170857, 43.54981492230737],\n",
              "     [-82.01990357659697, 43.549814887632834],\n",
              "     [-82.06550329410096, 43.54981488947521],\n",
              "     [-82.11110291862188, 43.54981492640863],\n",
              "     [-82.15670264647008, 43.54981487417575],\n",
              "     [-82.2023022582275, 43.549814871377436],\n",
              "     [-82.24790194906916, 43.54981486636297],\n",
              "     [-82.29350166466193, 43.549814863171804],\n",
              "     [-82.33910135034095, 43.549814865862565],\n",
              "     [-82.38470095110921, 43.5498148785137],\n",
              "     [-82.43030065968638, 43.5498149216846],\n",
              "     [-82.47590033729143, 43.549814920759566],\n",
              "     [-82.52150001017327, 43.54981488505688],\n",
              "     [-82.56709970402567, 43.549814896731895],\n",
              "     [-82.6126993615208, 43.549814886562494],\n",
              "     [-82.65829900740107, 43.5498148636057],\n",
              "     [-82.70389866584827, 43.549814909772515],\n",
              "     [-82.74949836048141, 43.54981488792894],\n",
              "     [-82.79509803211178, 43.54981487454832],\n",
              "     [-82.84069770339379, 43.549814878315324],\n",
              "     [-82.88629739641353, 43.54981490779626],\n",
              "     [-82.93189705061212, 43.54981489335927],\n",
              "     [-82.97749676911995, 43.54981492148231],\n",
              "     [-83.02309640838268, 43.549814917357565],\n",
              "     [-83.06869607043757, 43.54981489426629],\n",
              "     [-83.06869607043757, 42.30594421989502]]]},\n",
              "  'id': '00000000000000000001',\n",
              "  'properties': {'level_0': 0, 'level_1': 1}}]"
            ]
          },
          "metadata": {},
          "execution_count": 15
        }
      ],
      "metadata": {}
    },
    {
      "cell_type": "code",
      "execution_count": 17,
      "source": [
        "# to export image by area\n",
        "featlist = extent.getInfo()[\"features\"]\n",
        "\n",
        "#print featlist\n",
        "\n",
        "def unpack(thelist):\n",
        "    unpacked = []\n",
        "    for i in thelist:\n",
        "        unpacked.append(i[0])\n",
        "        unpacked.append(i[1])\n",
        "    return unpacked\n",
        "\n",
        "downConfig = {'scale': 10, \"maxPixels\": 1.0E13, 'driveFolder': 'duke-squirrels'}  # scale means resolution.\n",
        "\n",
        "for f, x in zip(featlist, [0, 1]):\n",
        "    geomlist = unpack(f[\"geometry\"][\"coordinates\"][0])\n",
        "    geom = ee.Geometry.Polygon(geomlist)\n",
        "\n",
        "    feat = ee.Feature(geom)\n",
        "    # disS = f[\"properties\"][\"district\"]\n",
        "    name = \"raster_ndbi_clip\"\n",
        "\n",
        "    task = ee.batch.Export.image.toDrive(\n",
        "        image=ndbi_clip,\n",
        "        # description= name+str(disS),\n",
        "        folder= \"duke-squirrel\",\n",
        "        fileNamePrefix= name,\n",
        "        region= feat.geometry().bounds().getInfo()[\"coordinates\"],\n",
        "        scale= 30)\n",
        "\n",
        "    task.start()\n",
        "    # print(\"exporting {0} {1}..\".format(name))\n"
      ],
      "outputs": [],
      "metadata": {}
    }
  ]
}